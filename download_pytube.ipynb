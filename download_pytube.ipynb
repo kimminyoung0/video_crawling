{
 "cells": [
  {
   "cell_type": "code",
   "execution_count": 5,
   "id": "ae6f5fb4",
   "metadata": {},
   "outputs": [
    {
     "name": "stdout",
     "output_type": "stream",
     "text": [
      "Found existing installation: pytube 12.1.0\r\n",
      "Uninstalling pytube-12.1.0:\r\n",
      "  Successfully uninstalled pytube-12.1.0\r\n"
     ]
    }
   ],
   "source": [
    "import sys   \n",
    "!{sys.executable} -m pip uninstall pytube --yes"
   ]
  },
  {
   "cell_type": "code",
   "execution_count": 6,
   "id": "10644cd9",
   "metadata": {},
   "outputs": [
    {
     "name": "stdout",
     "output_type": "stream",
     "text": [
      "Collecting pytube\n",
      "  Using cached pytube-12.1.0-py3-none-any.whl (56 kB)\n",
      "Installing collected packages: pytube\n",
      "Successfully installed pytube-12.1.0\n"
     ]
    }
   ],
   "source": [
    "import sys   \n",
    "!{sys.executable} -m pip install pytube"
   ]
  },
  {
   "cell_type": "code",
   "execution_count": 1,
   "id": "9399f91b",
   "metadata": {},
   "outputs": [
    {
     "name": "stdout",
     "output_type": "stream",
     "text": [
      "Downloading: 시간여행자_루크_본편\n",
      "5 개의 영상&음성 다운로드 시작\n",
      "시간여행자 루크 본편 | 1화 시간을 넘나드는 소년\n",
      "1/5번째 영상 : 시간여행자_루크_본편.mp4 다운 완료\n",
      "1/5번째 음성 : 시간여행자_루크_본편.mp4 다운 완료\n",
      "1/5번째 음성 wav로 변환 완료\n",
      "음성파일(mp4) 제거 완료\n"
     ]
    },
    {
     "name": "stderr",
     "output_type": "stream",
     "text": [
      "sh: ffmpeg: command not found\n"
     ]
    },
    {
     "name": "stdout",
     "output_type": "stream",
     "text": [
      "시간여행자 루크 본편 | 2화 이집트의 용맹한 전사\n",
      "2/5번째 영상 : 시간여행자_루크_본편.mp4 다운 완료\n",
      "2/5번째 음성 : 시간여행자_루크_본편.mp4 다운 완료\n",
      "2/5번째 음성 wav로 변환 완료\n",
      "음성파일(mp4) 제거 완료\n"
     ]
    },
    {
     "name": "stderr",
     "output_type": "stream",
     "text": [
      "sh: ffmpeg: command not found\n"
     ]
    },
    {
     "name": "stdout",
     "output_type": "stream",
     "text": [
      "시간여행자 루크 본편 | 3화 깨진 거울 속의 비밀\n",
      "3/5번째 영상 : 시간여행자_루크_본편.mp4 다운 완료\n",
      "3/5번째 음성 : 시간여행자_루크_본편.mp4 다운 완료\n",
      "3/5번째 음성 wav로 변환 완료\n",
      "음성파일(mp4) 제거 완료\n"
     ]
    },
    {
     "name": "stderr",
     "output_type": "stream",
     "text": [
      "sh: ffmpeg: command not found\n"
     ]
    },
    {
     "name": "stdout",
     "output_type": "stream",
     "text": [
      "시간여행자 루크 본편 | 4화 아부심벨 신전의 퍼즐\n",
      "4/5번째 영상 : 시간여행자_루크_본편.mp4 다운 완료\n",
      "4/5번째 음성 : 시간여행자_루크_본편.mp4 다운 완료\n",
      "4/5번째 음성 wav로 변환 완료\n",
      "음성파일(mp4) 제거 완료\n"
     ]
    },
    {
     "name": "stderr",
     "output_type": "stream",
     "text": [
      "sh: ffmpeg: command not found\n"
     ]
    },
    {
     "name": "stdout",
     "output_type": "stream",
     "text": [
      "시간여행자 루크 본편 | 5화 유물수비대의 탄생\n",
      "5/5번째 영상 : 시간여행자_루크_본편.mp4 다운 완료\n",
      "5/5번째 음성 : 시간여행자_루크_본편.mp4 다운 완료\n",
      "5/5번째 음성 wav로 변환 완료\n",
      "음성파일(mp4) 제거 완료\n",
      "스크래핑 종료\n"
     ]
    },
    {
     "name": "stderr",
     "output_type": "stream",
     "text": [
      "sh: ffmpeg: command not found\n"
     ]
    }
   ],
   "source": [
    "from pytube import Playlist\n",
    "from selenium.common.exceptions import ElementClickInterceptedException, NoSuchElementException, ElementNotInteractableException\n",
    "import http.client\n",
    "import os\n",
    "global scraped_count\n",
    "\n",
    "#주소 넣기\n",
    "pl = Playlist(\"https://www.youtube.com/watch?v=igF-7--Wrv8&list=PL8bpqdS3C4SLl1X4YeJhNdNN0o7q8Ed-6\")\n",
    "#https://www.youtube.com/watch?v=sEIgY7y69qU&list=PLC0S_r_ctjf8lEn1rl7WK_H7Yn7rFgPsA\n",
    "#https://www.youtube.com/watch?v=esN3jc1-8sM&list=PLC0S_r_ctjf_VlgmhlOGMSfN3a1lzvbLN\n",
    "\n",
    "#영상의 제목 가져오기\n",
    "str = pl.title\n",
    "file_name = str.replace(\" \", \"_\")\n",
    "print(f'Downloading: {file_name}')\n",
    "print(len(pl.videos) , \"개의 영상&음성 다운로드 시작\")\n",
    "\n",
    "for i,video in enumerate(pl.videos): #videos는 url list를 의미\n",
    "    try:\n",
    "        print(video.title)\n",
    "        video.streams.filter(progressive=True, file_extension='mp4', res=\"720p\").order_by('resolution').desc().first().download(f'{file_name}/video/', f'{file_name}_{i+1}.mp4')\n",
    "        #mime_type=\"video/mp4\"\n",
    "        print(f\"{i+1}/{len(pl.videos)}번째 영상 : {file_name}.mp4 다운 완료\")\n",
    "    \n",
    "        video.streams.filter(adaptive=True, file_extension='mp4', \n",
    "                          only_audio = True).order_by('abr').desc().first().download(f'{file_name}/audio/', f'{file_name}_{i+1}.mp4')\n",
    "    \n",
    "        print(f\"{i+1}/{len(pl.videos)}번째 음성 : {file_name}.mp4 다운 완료\")\n",
    "    \n",
    "        os.system(\"ffmpeg -i {} -acodec pcm_s16le -ac 1 -ar 16000 {}/{}.wav\".format(f'/Users/kimminyoung/Desktop/crawling/{file_name}/audio/{file_name}_{i+1}.mp4', \n",
    "                                                                      f'/Users/kimminyoung/Desktop/crawling/{file_name}/audio/',\n",
    "                                                                      f'{file_name}_{i+1}'))\n",
    "        print(f\"{i+1}/{len(pl.videos)}번째 음성 wav로 변환 완료\")\n",
    "        \n",
    "        os.remove(f'{file_name}/audio/{file_name}_{i+1}.mp4')\n",
    "        print(\"음성파일(mp4) 제거 완료\")\n",
    "        \n",
    "    except (http.client.IncompleteRead) as e:\n",
    "        print(e)\n",
    "        pass\n",
    "    \n",
    "print(\"스크래핑 종료\")\n",
    "        \n",
    "#         try:\n",
    "#     page = request.urlopen(urls).read()\n",
    "# except (http.client.IncompleteRead) as e:\n",
    "#     page = e.partial\n",
    "\n",
    "    \n",
    "#     scraped_count += 1\n",
    "# try:\n",
    "#     print(\"[스크래핑 종료 (성공률: %.2ff%%)]\" %(scraped_count / len(pl.videos) * 100.0))\n",
    "# except ZeroDivisionError as e:\n",
    "#         print(e)\n"
   ]
  },
  {
   "cell_type": "code",
   "execution_count": null,
   "id": "1468c76a",
   "metadata": {},
   "outputs": [],
   "source": [
    "#비디오 다운로드\n",
    "yt.streams.filter(progressive=True, file_extension='mp4', \n",
    "                  mime_type=\"video/mp4\", \n",
    "                  res=\"720p\").order_by('resolution').first().download('seperate_version/video/', f'{file_name}.mp4')"
   ]
  },
  {
   "cell_type": "code",
   "execution_count": null,
   "id": "23880169",
   "metadata": {},
   "outputs": [],
   "source": [
    "#오디오 다운로드\n",
    "yt.streams.filter(adaptive=True, only_audio=True, file_extension='mp4').order_by('abr').asc().first().download('seperate_version/audio/', f'{file_name}.mp4')"
   ]
  },
  {
   "cell_type": "code",
   "execution_count": null,
   "id": "c48b6ea5",
   "metadata": {},
   "outputs": [],
   "source": [
    "os.system(\"ffmpeg -i {} -acodec pcm_s16le -ac 1 -ar 16000 {}/{}.wav\".format(f'/Users/kimminyoung/Desktop/crawling/seperate_version/audio/{file_name}.mp4', \n",
    "                                                                      '/Users/kimminyoung/Desktop/crawling/seperate_version/audio',\n",
    "                                                                      f'{file_name}'))\n",
    "                    #format.(file_name, out_directory, actual_filename )"
   ]
  },
  {
   "cell_type": "code",
   "execution_count": null,
   "id": "370c984d",
   "metadata": {},
   "outputs": [],
   "source": []
  },
  {
   "cell_type": "code",
   "execution_count": null,
   "id": "d23b17e4",
   "metadata": {},
   "outputs": [],
   "source": [
    "#비디오 스트림 확인\n",
    "video=yt.streams.filter(adaptive=True, file_extension='mp4', mime_type=\"video/mp4\", only_video=True).asc()\n",
    "\n",
    "for i in range(len(video)):\n",
    "    print(i,'. ', video[i])"
   ]
  },
  {
   "cell_type": "code",
   "execution_count": null,
   "id": "1349cc67",
   "metadata": {},
   "outputs": [],
   "source": [
    "video.first().download()"
   ]
  },
  {
   "cell_type": "code",
   "execution_count": null,
   "id": "7e80388d",
   "metadata": {},
   "outputs": [],
   "source": [
    "#오디오 스트림 확인\n",
    "audio = yt.streams.filter(adaptive=True, only_audio=True).desc()\n",
    "\n",
    "for i in range(len(audio)):\n",
    "    print(i,'. ', audio[i])"
   ]
  },
  {
   "cell_type": "code",
   "execution_count": null,
   "id": "07004bee",
   "metadata": {},
   "outputs": [],
   "source": [
    "audio.first().download()"
   ]
  },
  {
   "cell_type": "code",
   "execution_count": null,
   "id": "6ed4a4b7",
   "metadata": {},
   "outputs": [],
   "source": [
    "#progressive= true는 순차주사방식으로 되어있는 영상들\n",
    "vids2=yt.streams.filter(progressive = True, file_extension='mp4', mime_type=\"video/mp4\").desc()\n",
    "\n",
    "for i in range(len(vids2)):\n",
    "    print(i,'. ', vids2[i])"
   ]
  },
  {
   "cell_type": "code",
   "execution_count": null,
   "id": "df1d5177",
   "metadata": {},
   "outputs": [],
   "source": [
    "#progressive= true는 순차주사방식으로 되어있는 영상들\n",
    "auds2=yt.streams.filter(progressive = True, file_extension='mp4', mime_type=\"audio/mp4\").desc()\n",
    "\n",
    "for i in range(len(auds2)):\n",
    "    print(i,'. ', auds2[i])"
   ]
  },
  {
   "cell_type": "code",
   "execution_count": null,
   "id": "57f0a620",
   "metadata": {},
   "outputs": [],
   "source": [
    "#유튜브 객체에서 스트리밍 관련 모든 것 가져오기\n",
    "vids4=yt.streams.filter(adaptive=True, file_extension='mp4', mime_type=\"audio/mp4\", only_audio=True).asc()\n",
    "\n",
    "for i in range(len(vids4)):\n",
    "    print(i,'. ', vids4[i])"
   ]
  },
  {
   "cell_type": "code",
   "execution_count": null,
   "id": "d9e8bcee",
   "metadata": {},
   "outputs": [],
   "source": [
    "#유튜브 객체에서 스트리밍 관련 모든 것 가져오기\n",
    "vids=yt.streams.filter().desc()\n",
    "for i in range(len(vids)):\n",
    "    print(i,'. ', vids[i])"
   ]
  }
 ],
 "metadata": {
  "kernelspec": {
   "display_name": "env_test",
   "language": "python",
   "name": "env"
  },
  "language_info": {
   "codemirror_mode": {
    "name": "ipython",
    "version": 3
   },
   "file_extension": ".py",
   "mimetype": "text/x-python",
   "name": "python",
   "nbconvert_exporter": "python",
   "pygments_lexer": "ipython3",
   "version": "3.7.13"
  }
 },
 "nbformat": 4,
 "nbformat_minor": 5
}
